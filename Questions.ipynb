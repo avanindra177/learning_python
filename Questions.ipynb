{
 "cells": [
  {
   "cell_type": "markdown",
   "metadata": {},
   "source": [
    "# Q. You are given a string and your task is to swap cases. In other words, convert all lowercase letters to uppercase letters and vice versa.\n",
    "\n",
    "input: 'This is mE 123'\n",
    "\n",
    "output: 'tHIS IS Me 123'"
   ]
  },
  {
   "cell_type": "code",
   "execution_count": 61,
   "metadata": {},
   "outputs": [
    {
     "name": "stdout",
     "output_type": "stream",
     "text": [
      "tHIS IS Me 123\n"
     ]
    }
   ],
   "source": [
    "sentence = 'This is mE 123'\n",
    "result = ''\n",
    "\n",
    "for x in sentence:\n",
    "    if(x.isupper()):\n",
    "        result+=x.lower()   \n",
    "        \n",
    "    else:\n",
    "        result+=x.upper()\n",
    "        \n",
    "        \n",
    "print(result)"
   ]
  },
  {
   "cell_type": "markdown",
   "metadata": {},
   "source": [
    "# Q. The user enters a string and a substring. You have to print the number of times that the substring occurs in the given string. String traversal will take place from left to right, not from right to left.\n",
    "\n",
    "Input: \n",
    "\n",
    "ABCDCDC\n",
    "\n",
    "CDC\n",
    "\n",
    "Output:\n",
    "\n",
    "2"
   ]
  },
  {
   "cell_type": "code",
   "execution_count": 54,
   "metadata": {},
   "outputs": [
    {
     "name": "stdout",
     "output_type": "stream",
     "text": [
      "2\n"
     ]
    }
   ],
   "source": [
    "#import regex as re\n",
    "\n",
    "#def occurrences(text, sub):\n",
    " #   return len(re.findall(sub, text, overlapped=True))\n",
    "\n",
    "#occurrences('ABCDCDC','CDC')\n",
    "\n",
    "s = 'ABCDCDC'\n",
    "count = 0\n",
    "\n",
    "while 'CDC' in s:\n",
    "    count += 1 \n",
    "    s = s[(s.find('CDC') + 2):]\n",
    "    \n",
    "print(count)"
   ]
  },
  {
   "cell_type": "markdown",
   "metadata": {},
   "source": [
    "# Q. You are given a string and your task is remove all Upper case letters. \n",
    "\n",
    "input: 'This is mE 123'\n",
    "\n",
    "output: 'his is m 123'"
   ]
  },
  {
   "cell_type": "code",
   "execution_count": 63,
   "metadata": {},
   "outputs": [
    {
     "name": "stdout",
     "output_type": "stream",
     "text": [
      "his is m 123\n"
     ]
    }
   ],
   "source": [
    "string = 'This is mE 123'\n",
    "result = ''\n",
    "\n",
    "for x in sentence: \n",
    "        \n",
    "    if(x.islower()):\n",
    "        result+=x.lower()\n",
    "        \n",
    "    elif(x.isdigit()):\n",
    "        result += x\n",
    "        \n",
    "    elif(x.find(' ')==0):\n",
    "        result += x\n",
    "        \n",
    "        \n",
    "print(result)"
   ]
  },
  {
   "cell_type": "markdown",
   "metadata": {},
   "source": [
    "Q. Write a class in which its one method accepts a string from console and \n",
    "another method to print the characters that have odd indexes.\n",
    "\n",
    "Example:\n",
    "If the following string is given as input to the program:\n",
    "\n",
    "Hello123\n",
    "\n",
    "Then, the output of the program should be:\n",
    "\n",
    "el13"
   ]
  },
  {
   "cell_type": "code",
   "execution_count": 79,
   "metadata": {},
   "outputs": [
    {
     "name": "stdout",
     "output_type": "stream",
     "text": [
      "el13\n"
     ]
    }
   ],
   "source": [
    "class OddPrint:\n",
    "    def __init__(self):\n",
    "        self.letter= \"\"\n",
    "        \n",
    "        \n",
    "    def enterInput(self):\n",
    "        self.letter = input(\"Enter string: \")\n",
    "        \n",
    "    def printOutput(self):\n",
    "        x = self.letter[1::2]\n",
    "        print(x)\n",
    "        \n",
    "p = OddPrint()\n",
    "p.enterInput()\n",
    "p.printOutput()"
   ]
  },
  {
   "cell_type": "code",
   "execution_count": null,
   "metadata": {},
   "outputs": [],
   "source": []
  }
 ],
 "metadata": {
  "kernelspec": {
   "display_name": "Python 3",
   "language": "python",
   "name": "python3"
  },
  "language_info": {
   "codemirror_mode": {
    "name": "ipython",
    "version": 3
   },
   "file_extension": ".py",
   "mimetype": "text/x-python",
   "name": "python",
   "nbconvert_exporter": "python",
   "pygments_lexer": "ipython3",
   "version": "3.6.5"
  }
 },
 "nbformat": 4,
 "nbformat_minor": 2
}
